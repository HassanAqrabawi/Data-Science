{
 "cells": [
  {
   "cell_type": "code",
   "execution_count": 1,
   "id": "0b58318b",
   "metadata": {
    "_cell_guid": "b1076dfc-b9ad-4769-8c92-a6c4dae69d19",
    "_uuid": "8f2839f25d086af736a60e9eeb907d3b93b6e0e5",
    "execution": {
     "iopub.execute_input": "2023-05-04T17:49:12.336901Z",
     "iopub.status.busy": "2023-05-04T17:49:12.336236Z",
     "iopub.status.idle": "2023-05-04T17:49:12.359601Z",
     "shell.execute_reply": "2023-05-04T17:49:12.358188Z"
    },
    "papermill": {
     "duration": 0.036835,
     "end_time": "2023-05-04T17:49:12.363568",
     "exception": false,
     "start_time": "2023-05-04T17:49:12.326733",
     "status": "completed"
    },
    "tags": []
   },
   "outputs": [],
   "source": [
    "import numpy as np # linear algebra\n",
    "import pandas as pd # data processing, CSV file I/O (e.g. pd.read_csv)\n",
    "import os"
   ]
  },
  {
   "cell_type": "code",
   "execution_count": 3,
   "id": "c7e6c84e",
   "metadata": {
    "execution": {
     "iopub.execute_input": "2023-05-04T17:49:12.378726Z",
     "iopub.status.busy": "2023-05-04T17:49:12.378232Z",
     "iopub.status.idle": "2023-05-04T17:49:12.447288Z",
     "shell.execute_reply": "2023-05-04T17:49:12.445741Z"
    },
    "papermill": {
     "duration": 0.081019,
     "end_time": "2023-05-04T17:49:12.450920",
     "exception": false,
     "start_time": "2023-05-04T17:49:12.369901",
     "status": "completed"
    },
    "tags": []
   },
   "outputs": [
    {
     "data": {
      "text/html": [
       "<div>\n",
       "<style scoped>\n",
       "    .dataframe tbody tr th:only-of-type {\n",
       "        vertical-align: middle;\n",
       "    }\n",
       "\n",
       "    .dataframe tbody tr th {\n",
       "        vertical-align: top;\n",
       "    }\n",
       "\n",
       "    .dataframe thead th {\n",
       "        text-align: right;\n",
       "    }\n",
       "</style>\n",
       "<table border=\"1\" class=\"dataframe\">\n",
       "  <thead>\n",
       "    <tr style=\"text-align: right;\">\n",
       "      <th></th>\n",
       "      <th>id</th>\n",
       "      <th>gender</th>\n",
       "      <th>age</th>\n",
       "      <th>hypertension</th>\n",
       "      <th>heart_disease</th>\n",
       "      <th>ever_married</th>\n",
       "      <th>work_type</th>\n",
       "      <th>Residence_type</th>\n",
       "      <th>avg_glucose_level</th>\n",
       "      <th>bmi</th>\n",
       "      <th>smoking_status</th>\n",
       "      <th>stroke</th>\n",
       "    </tr>\n",
       "  </thead>\n",
       "  <tbody>\n",
       "    <tr>\n",
       "      <th>0</th>\n",
       "      <td>9046</td>\n",
       "      <td>Male</td>\n",
       "      <td>67.0</td>\n",
       "      <td>0</td>\n",
       "      <td>1</td>\n",
       "      <td>Yes</td>\n",
       "      <td>Private</td>\n",
       "      <td>Urban</td>\n",
       "      <td>228.69</td>\n",
       "      <td>36.6</td>\n",
       "      <td>formerly smoked</td>\n",
       "      <td>1</td>\n",
       "    </tr>\n",
       "    <tr>\n",
       "      <th>1</th>\n",
       "      <td>51676</td>\n",
       "      <td>Female</td>\n",
       "      <td>61.0</td>\n",
       "      <td>0</td>\n",
       "      <td>0</td>\n",
       "      <td>Yes</td>\n",
       "      <td>Self-employed</td>\n",
       "      <td>Rural</td>\n",
       "      <td>202.21</td>\n",
       "      <td>NaN</td>\n",
       "      <td>never smoked</td>\n",
       "      <td>1</td>\n",
       "    </tr>\n",
       "    <tr>\n",
       "      <th>2</th>\n",
       "      <td>31112</td>\n",
       "      <td>Male</td>\n",
       "      <td>80.0</td>\n",
       "      <td>0</td>\n",
       "      <td>1</td>\n",
       "      <td>Yes</td>\n",
       "      <td>Private</td>\n",
       "      <td>Rural</td>\n",
       "      <td>105.92</td>\n",
       "      <td>32.5</td>\n",
       "      <td>never smoked</td>\n",
       "      <td>1</td>\n",
       "    </tr>\n",
       "    <tr>\n",
       "      <th>3</th>\n",
       "      <td>60182</td>\n",
       "      <td>Female</td>\n",
       "      <td>49.0</td>\n",
       "      <td>0</td>\n",
       "      <td>0</td>\n",
       "      <td>Yes</td>\n",
       "      <td>Private</td>\n",
       "      <td>Urban</td>\n",
       "      <td>171.23</td>\n",
       "      <td>34.4</td>\n",
       "      <td>smokes</td>\n",
       "      <td>1</td>\n",
       "    </tr>\n",
       "    <tr>\n",
       "      <th>4</th>\n",
       "      <td>1665</td>\n",
       "      <td>Female</td>\n",
       "      <td>79.0</td>\n",
       "      <td>1</td>\n",
       "      <td>0</td>\n",
       "      <td>Yes</td>\n",
       "      <td>Self-employed</td>\n",
       "      <td>Rural</td>\n",
       "      <td>174.12</td>\n",
       "      <td>24.0</td>\n",
       "      <td>never smoked</td>\n",
       "      <td>1</td>\n",
       "    </tr>\n",
       "  </tbody>\n",
       "</table>\n",
       "</div>"
      ],
      "text/plain": [
       "      id  gender   age  hypertension  heart_disease ever_married  \\\n",
       "0   9046    Male  67.0             0              1          Yes   \n",
       "1  51676  Female  61.0             0              0          Yes   \n",
       "2  31112    Male  80.0             0              1          Yes   \n",
       "3  60182  Female  49.0             0              0          Yes   \n",
       "4   1665  Female  79.0             1              0          Yes   \n",
       "\n",
       "       work_type Residence_type  avg_glucose_level   bmi   smoking_status  \\\n",
       "0        Private          Urban             228.69  36.6  formerly smoked   \n",
       "1  Self-employed          Rural             202.21   NaN     never smoked   \n",
       "2        Private          Rural             105.92  32.5     never smoked   \n",
       "3        Private          Urban             171.23  34.4           smokes   \n",
       "4  Self-employed          Rural             174.12  24.0     never smoked   \n",
       "\n",
       "   stroke  \n",
       "0       1  \n",
       "1       1  \n",
       "2       1  \n",
       "3       1  \n",
       "4       1  "
      ]
     },
     "execution_count": 3,
     "metadata": {},
     "output_type": "execute_result"
    }
   ],
   "source": [
    "df=pd.read_csv(\"healthcare-dataset-stroke-data.csv\")\n",
    "df.head()"
   ]
  },
  {
   "cell_type": "code",
   "execution_count": 5,
   "id": "e430bc1c",
   "metadata": {
    "execution": {
     "iopub.execute_input": "2023-05-04T17:49:12.480217Z",
     "iopub.status.busy": "2023-05-04T17:49:12.478846Z",
     "iopub.status.idle": "2023-05-04T17:49:12.515801Z",
     "shell.execute_reply": "2023-05-04T17:49:12.513860Z"
    },
    "papermill": {
     "duration": 0.048581,
     "end_time": "2023-05-04T17:49:12.519029",
     "exception": false,
     "start_time": "2023-05-04T17:49:12.470448",
     "status": "completed"
    },
    "tags": []
   },
   "outputs": [
    {
     "name": "stdout",
     "output_type": "stream",
     "text": [
      "<class 'pandas.core.frame.DataFrame'>\n",
      "RangeIndex: 5110 entries, 0 to 5109\n",
      "Data columns (total 12 columns):\n",
      " #   Column             Non-Null Count  Dtype  \n",
      "---  ------             --------------  -----  \n",
      " 0   id                 5110 non-null   int64  \n",
      " 1   gender             5110 non-null   object \n",
      " 2   age                5110 non-null   float64\n",
      " 3   hypertension       5110 non-null   int64  \n",
      " 4   heart_disease      5110 non-null   int64  \n",
      " 5   ever_married       5110 non-null   object \n",
      " 6   work_type          5110 non-null   object \n",
      " 7   Residence_type     5110 non-null   object \n",
      " 8   avg_glucose_level  5110 non-null   float64\n",
      " 9   bmi                5110 non-null   float64\n",
      " 10  smoking_status     5110 non-null   object \n",
      " 11  stroke             5110 non-null   int64  \n",
      "dtypes: float64(3), int64(4), object(5)\n",
      "memory usage: 479.2+ KB\n",
      "None\n"
     ]
    }
   ],
   "source": [
    "\n",
    "bmi_mean = df['bmi'].mean()\n",
    "df['bmi'] = df['bmi'].fillna(bmi_mean)\n",
    "missing_values_count = df.isna().sum()\n",
    "print(df.info())"
   ]
  },
  {
   "cell_type": "code",
   "execution_count": 6,
   "id": "f8a43ed9",
   "metadata": {
    "execution": {
     "iopub.execute_input": "2023-05-04T17:49:12.548742Z",
     "iopub.status.busy": "2023-05-04T17:49:12.548218Z",
     "iopub.status.idle": "2023-05-04T17:49:12.581584Z",
     "shell.execute_reply": "2023-05-04T17:49:12.580250Z"
    },
    "papermill": {
     "duration": 0.045535,
     "end_time": "2023-05-04T17:49:12.584460",
     "exception": false,
     "start_time": "2023-05-04T17:49:12.538925",
     "status": "completed"
    },
    "tags": []
   },
   "outputs": [
    {
     "name": "stdout",
     "output_type": "stream",
     "text": [
      "         id  gender   age  hypertension  heart_disease ever_married  \\\n",
      "0      9046    Male  67.0             0              1          Yes   \n",
      "1     51676  Female  61.0             0              0          Yes   \n",
      "2     31112    Male  80.0             0              1          Yes   \n",
      "3     60182  Female  49.0             0              0          Yes   \n",
      "4      1665  Female  79.0             1              0          Yes   \n",
      "...     ...     ...   ...           ...            ...          ...   \n",
      "5105  18234  Female  80.0             1              0          Yes   \n",
      "5106  44873  Female  81.0             0              0          Yes   \n",
      "5107  19723  Female  35.0             0              0          Yes   \n",
      "5108  37544    Male  51.0             0              0          Yes   \n",
      "5109  44679  Female  44.0             0              0          Yes   \n",
      "\n",
      "          work_type Residence_type  avg_glucose_level        bmi  \\\n",
      "0           Private          Urban             228.69  36.600000   \n",
      "1     Self-employed          Rural             202.21  28.893237   \n",
      "2           Private          Rural             105.92  32.500000   \n",
      "3           Private          Urban             171.23  34.400000   \n",
      "4     Self-employed          Rural             174.12  24.000000   \n",
      "...             ...            ...                ...        ...   \n",
      "5105        Private          Urban              83.75  28.893237   \n",
      "5106  Self-employed          Urban             125.20  40.000000   \n",
      "5107  Self-employed          Rural              82.99  30.600000   \n",
      "5108        Private          Rural             166.29  25.600000   \n",
      "5109       Govt_job          Urban              85.28  26.200000   \n",
      "\n",
      "       smoking_status  stroke  \n",
      "0     formerly smoked       1  \n",
      "1        never smoked       1  \n",
      "2        never smoked       1  \n",
      "3              smokes       1  \n",
      "4        never smoked       1  \n",
      "...               ...     ...  \n",
      "5105     never smoked       0  \n",
      "5106     never smoked       0  \n",
      "5107     never smoked       0  \n",
      "5108  formerly smoked       0  \n",
      "5109          Unknown       0  \n",
      "\n",
      "[5110 rows x 12 columns]\n"
     ]
    }
   ],
   "source": [
    "print(df)"
   ]
  },
  {
   "cell_type": "code",
   "execution_count": 7,
   "id": "b0c0a027",
   "metadata": {
    "execution": {
     "iopub.execute_input": "2023-05-04T17:49:19.040833Z",
     "iopub.status.busy": "2023-05-04T17:49:19.039098Z",
     "iopub.status.idle": "2023-05-04T17:49:20.920414Z",
     "shell.execute_reply": "2023-05-04T17:49:20.919351Z"
    },
    "papermill": {
     "duration": 1.894304,
     "end_time": "2023-05-04T17:49:20.923487",
     "exception": false,
     "start_time": "2023-05-04T17:49:19.029183",
     "status": "completed"
    },
    "tags": []
   },
   "outputs": [],
   "source": [
    "# Drop the 'id' column from the DataFrame\n",
    "df = df.drop('id', axis=1)\n",
    "df['avg_glucose_level'] = df['avg_glucose_level'].apply(lambda x: int(x / 10) * 10)\n",
    "df['age'] = df['age'].apply(lambda x: int(x / 10) * 10)\n",
    "df['bmi'] = df['bmi'].apply(lambda x: int(x / 5) * 5)\n",
    "df['gender'] = df['gender'].apply(lambda x: 1 if x == 'Male' else 0)\n",
    "df['Residence_type'] = df['Residence_type'].apply(lambda x: 1 if x == 'Urban' else 0)\n"
   ]
  },
  {
   "cell_type": "code",
   "execution_count": 8,
   "id": "c013d341",
   "metadata": {
    "execution": {
     "iopub.execute_input": "2023-05-04T17:49:24.862850Z",
     "iopub.status.busy": "2023-05-04T17:49:24.862056Z",
     "iopub.status.idle": "2023-05-04T17:49:26.771411Z",
     "shell.execute_reply": "2023-05-04T17:49:26.770152Z"
    },
    "papermill": {
     "duration": 1.9228,
     "end_time": "2023-05-04T17:49:26.774618",
     "exception": false,
     "start_time": "2023-05-04T17:49:24.851818",
     "status": "completed"
    },
    "tags": []
   },
   "outputs": [],
   "source": [
    "\n",
    "work_type_map = {'Private': 0, 'Self-employed': 1, 'Govt_job': 2, 'children': 3, 'Never_worked': 4}\n",
    "df['work_type'] = df['work_type'].map(work_type_map)\n",
    "\n",
    "smoking_status_map = {'never smoked': 0, 'formerly smoked': 1, 'smokes': 2, 'Unknown': 3}\n",
    "df['smoking_status'] = df['smoking_status'].map(smoking_status_map)\n",
    "\n",
    "df['ever_married'] = df['ever_married'].apply(lambda x: 1 if x == 'Yes' else 0)\n"
   ]
  },
  {
   "cell_type": "code",
   "execution_count": 12,
   "id": "a00e067d",
   "metadata": {
    "execution": {
     "iopub.execute_input": "2023-05-04T17:49:26.793987Z",
     "iopub.status.busy": "2023-05-04T17:49:26.793274Z",
     "iopub.status.idle": "2023-05-04T17:49:26.803419Z",
     "shell.execute_reply": "2023-05-04T17:49:26.801490Z"
    },
    "papermill": {
     "duration": 0.024226,
     "end_time": "2023-05-04T17:49:26.806597",
     "exception": false,
     "start_time": "2023-05-04T17:49:26.782371",
     "status": "completed"
    },
    "tags": []
   },
   "outputs": [
    {
     "data": {
      "text/plain": [
       "array([1, 0, 2, 3], dtype=int64)"
      ]
     },
     "execution_count": 12,
     "metadata": {},
     "output_type": "execute_result"
    }
   ],
   "source": [
    "# df.work_type.unique()\n",
    "# df.Residence_type.unique()\n",
    "df.smoking_status.unique()"
   ]
  },
  {
   "cell_type": "code",
   "execution_count": 13,
   "id": "93cfd38e",
   "metadata": {
    "execution": {
     "iopub.execute_input": "2023-05-04T17:49:26.825418Z",
     "iopub.status.busy": "2023-05-04T17:49:26.824863Z",
     "iopub.status.idle": "2023-05-04T17:49:37.689353Z",
     "shell.execute_reply": "2023-05-04T17:49:37.687781Z"
    },
    "papermill": {
     "duration": 10.877876,
     "end_time": "2023-05-04T17:49:37.692750",
     "exception": false,
     "start_time": "2023-05-04T17:49:26.814874",
     "status": "completed"
    },
    "tags": []
   },
   "outputs": [],
   "source": [
    "import pandas as pd\n",
    "import matplotlib.pyplot as plt\n",
    "import seaborn as sns\n",
    "from sklearn.metrics import confusion_matrix\n",
    "from sklearn.model_selection import train_test_split\n",
    "\n",
    "import tensorflow as tf\n",
    "from tensorflow.keras.optimizers import Adam \n",
    "from keras.callbacks import ReduceLROnPlateau, EarlyStopping\n",
    "from keras.utils import to_categorical\n",
    "from keras.preprocessing import image\n",
    "from keras.applications.inception_v3 import InceptionV3\n",
    "from keras.layers import (Input, Dense, Dropout, Activation, ZeroPadding2D, \n",
    "                          BatchNormalization, Flatten, Conv2D, Embedding, Add,\n",
    "                          Conv1D, GlobalAveragePooling1D, AveragePooling2D, \n",
    "                          MaxPooling2D, MaxPool1D, ZeroPadding1D, \n",
    "                          GlobalMaxPooling2D, GlobalAveragePooling2D, LSTM, SpatialDropout1D)\n",
    "from keras.models import Sequential, Model\n",
    "from keras.layers import Dense, Activation, Flatten, Convolution1D, Dropout, MaxPooling1D\n",
    "from keras.utils import plot_model\n",
    "from keras import layers\n"
   ]
  },
  {
   "cell_type": "code",
   "execution_count": 14,
   "id": "390b9750",
   "metadata": {
    "execution": {
     "iopub.execute_input": "2023-05-04T17:49:37.912995Z",
     "iopub.status.busy": "2023-05-04T17:49:37.912455Z",
     "iopub.status.idle": "2023-05-04T17:49:37.920419Z",
     "shell.execute_reply": "2023-05-04T17:49:37.918959Z"
    },
    "papermill": {
     "duration": 0.020364,
     "end_time": "2023-05-04T17:49:37.923110",
     "exception": false,
     "start_time": "2023-05-04T17:49:37.902746",
     "status": "completed"
    },
    "tags": []
   },
   "outputs": [
    {
     "name": "stdout",
     "output_type": "stream",
     "text": [
      "train X shape=(4088, 11)\n",
      "train y shape=(4088,)\n",
      "test X shape=(1022, 11)\n",
      "test y shape=(1022,)\n"
     ]
    }
   ],
   "source": [
    "import numpy as np\n",
    "from sklearn.model_selection import train_test_split\n",
    "from sklearn.linear_model import LogisticRegression\n",
    "from sklearn.preprocessing import LabelEncoder\n",
    "\n",
    "df = df.sample(frac=1).reset_index(drop=True)\n",
    "\n",
    "y = df['stroke']\n",
    "x = df.iloc[:, 0:11].astype(np.float32)\n",
    "\n",
    "x_train, x_test, y_train, y_test = train_test_split(x, y, test_size=0.2, random_state=0)\n",
    "\n",
    "# Print shape of data\n",
    "print(\"train X shape=\" + str(x_train.shape))\n",
    "print(\"train y shape=\" + str(y_train.shape))\n",
    "print(\"test X shape=\" + str(x_test.shape))\n",
    "print(\"test y shape=\" + str(y_test.shape))\n"
   ]
  },
  {
   "cell_type": "code",
   "execution_count": 15,
   "id": "3b097e96",
   "metadata": {
    "execution": {
     "iopub.execute_input": "2023-05-04T17:49:38.232987Z",
     "iopub.status.busy": "2023-05-04T17:49:38.232447Z",
     "iopub.status.idle": "2023-05-04T17:49:38.861517Z",
     "shell.execute_reply": "2023-05-04T17:49:38.859766Z"
    },
    "papermill": {
     "duration": 0.64227,
     "end_time": "2023-05-04T17:49:38.864947",
     "exception": false,
     "start_time": "2023-05-04T17:49:38.222677",
     "status": "completed"
    },
    "tags": []
   },
   "outputs": [
    {
     "name": "stderr",
     "output_type": "stream",
     "text": [
      "WARNING:absl:`lr` is deprecated in Keras optimizer, please use `learning_rate` or use the legacy optimizer, e.g.,tf.keras.optimizers.legacy.Adam.\n"
     ]
    },
    {
     "name": "stdout",
     "output_type": "stream",
     "text": [
      "You must install pydot (`pip install pydot`) and install graphviz (see instructions at https://graphviz.gitlab.io/download/) for plot_model to work.\n"
     ]
    }
   ],
   "source": [
    "ann_model = Sequential([\n",
    "    Dense(64, activation='relu', input_shape=(11,)),\n",
    "    Dense(64, activation='relu'),\n",
    "    Dense(32, activation='relu'),\n",
    "    Dense(32, activation='relu'),\n",
    "    Dense(2, activation='softmax')\n",
    "])\n",
    "\n",
    "# Compile the model\n",
    "ann_model.compile(optimizer=Adam(lr=0.0001),\n",
    "                  loss='sparse_categorical_crossentropy',\n",
    "                  metrics=['accuracy'])\n",
    "\n",
    "# Plot the model architecture\n",
    "tf.keras.utils.plot_model(\n",
    "    ann_model,\n",
    "    to_file='ann_model.png',\n",
    "    show_shapes=True,\n",
    "    show_layer_names=True\n",
    ")"
   ]
  },
  {
   "cell_type": "code",
   "execution_count": 16,
   "id": "4b564a6f",
   "metadata": {
    "execution": {
     "iopub.execute_input": "2023-05-04T17:49:38.885471Z",
     "iopub.status.busy": "2023-05-04T17:49:38.884940Z",
     "iopub.status.idle": "2023-05-04T17:49:38.914989Z",
     "shell.execute_reply": "2023-05-04T17:49:38.913447Z"
    },
    "papermill": {
     "duration": 0.043824,
     "end_time": "2023-05-04T17:49:38.917823",
     "exception": false,
     "start_time": "2023-05-04T17:49:38.873999",
     "status": "completed"
    },
    "tags": []
   },
   "outputs": [
    {
     "name": "stdout",
     "output_type": "stream",
     "text": [
      "Model: \"sequential\"\n",
      "_________________________________________________________________\n",
      " Layer (type)                Output Shape              Param #   \n",
      "=================================================================\n",
      " dense (Dense)               (None, 64)                768       \n",
      "                                                                 \n",
      " dense_1 (Dense)             (None, 64)                4160      \n",
      "                                                                 \n",
      " dense_2 (Dense)             (None, 32)                2080      \n",
      "                                                                 \n",
      " dense_3 (Dense)             (None, 32)                1056      \n",
      "                                                                 \n",
      " dense_4 (Dense)             (None, 2)                 66        \n",
      "                                                                 \n",
      "=================================================================\n",
      "Total params: 8,130\n",
      "Trainable params: 8,130\n",
      "Non-trainable params: 0\n",
      "_________________________________________________________________\n"
     ]
    }
   ],
   "source": [
    "ann_model.summary()"
   ]
  },
  {
   "cell_type": "code",
   "execution_count": 17,
   "id": "613557ff",
   "metadata": {
    "execution": {
     "iopub.execute_input": "2023-05-04T17:49:38.940372Z",
     "iopub.status.busy": "2023-05-04T17:49:38.939874Z",
     "iopub.status.idle": "2023-05-04T17:50:08.765289Z",
     "shell.execute_reply": "2023-05-04T17:50:08.763602Z"
    },
    "papermill": {
     "duration": 29.840858,
     "end_time": "2023-05-04T17:50:08.768754",
     "exception": false,
     "start_time": "2023-05-04T17:49:38.927896",
     "status": "completed"
    },
    "tags": []
   },
   "outputs": [
    {
     "name": "stdout",
     "output_type": "stream",
     "text": [
      "Epoch 1/30\n",
      "273/273 [==============================] - 2s 2ms/step - loss: 0.2441 - accuracy: 0.9457 - val_loss: 0.1693 - val_accuracy: 0.9579\n",
      "Epoch 2/30\n",
      "273/273 [==============================] - 0s 2ms/step - loss: 0.1949 - accuracy: 0.9474 - val_loss: 0.1484 - val_accuracy: 0.9579\n",
      "Epoch 3/30\n",
      "273/273 [==============================] - 0s 2ms/step - loss: 0.1879 - accuracy: 0.9464 - val_loss: 0.1421 - val_accuracy: 0.9589\n",
      "Epoch 4/30\n",
      "273/273 [==============================] - 0s 2ms/step - loss: 0.1661 - accuracy: 0.9496 - val_loss: 0.1175 - val_accuracy: 0.9589\n",
      "Epoch 5/30\n",
      "273/273 [==============================] - 0s 2ms/step - loss: 0.1221 - accuracy: 0.9587 - val_loss: 0.0929 - val_accuracy: 0.9853\n",
      "Epoch 6/30\n",
      "273/273 [==============================] - 1s 2ms/step - loss: 0.0598 - accuracy: 0.9817 - val_loss: 0.0096 - val_accuracy: 0.9990\n",
      "Epoch 7/30\n",
      "273/273 [==============================] - 1s 2ms/step - loss: 0.0255 - accuracy: 0.9946 - val_loss: 0.0024 - val_accuracy: 1.0000\n",
      "Epoch 8/30\n",
      "273/273 [==============================] - 0s 2ms/step - loss: 0.0024 - accuracy: 0.9998 - val_loss: 7.2558e-04 - val_accuracy: 1.0000\n",
      "Epoch 9/30\n",
      "273/273 [==============================] - 1s 2ms/step - loss: 0.0018 - accuracy: 0.9995 - val_loss: 0.0054 - val_accuracy: 1.0000\n",
      "Epoch 10/30\n",
      "273/273 [==============================] - 0s 2ms/step - loss: 1.8598e-04 - accuracy: 1.0000 - val_loss: 2.9119e-05 - val_accuracy: 1.0000\n",
      "Epoch 11/30\n",
      "273/273 [==============================] - 0s 2ms/step - loss: 2.4475e-05 - accuracy: 1.0000 - val_loss: 1.6714e-05 - val_accuracy: 1.0000\n",
      "Epoch 12/30\n",
      "273/273 [==============================] - 0s 2ms/step - loss: 1.6622e-05 - accuracy: 1.0000 - val_loss: 1.2025e-05 - val_accuracy: 1.0000\n",
      "Epoch 13/30\n",
      "273/273 [==============================] - 0s 2ms/step - loss: 1.1956e-05 - accuracy: 1.0000 - val_loss: 8.8779e-06 - val_accuracy: 1.0000\n",
      "Epoch 14/30\n",
      "273/273 [==============================] - 0s 2ms/step - loss: 8.8277e-06 - accuracy: 1.0000 - val_loss: 6.7779e-06 - val_accuracy: 1.0000\n",
      "Epoch 15/30\n",
      "273/273 [==============================] - 1s 2ms/step - loss: 6.9752e-06 - accuracy: 1.0000 - val_loss: 5.7302e-06 - val_accuracy: 1.0000\n",
      "Epoch 16/30\n",
      "273/273 [==============================] - 1s 2ms/step - loss: 5.5038e-06 - accuracy: 1.0000 - val_loss: 4.2911e-06 - val_accuracy: 1.0000\n",
      "Epoch 17/30\n",
      "273/273 [==============================] - 0s 2ms/step - loss: 4.5531e-06 - accuracy: 1.0000 - val_loss: 3.8589e-06 - val_accuracy: 1.0000\n",
      "Epoch 18/30\n",
      "273/273 [==============================] - 0s 2ms/step - loss: 3.5632e-06 - accuracy: 1.0000 - val_loss: 2.8798e-06 - val_accuracy: 1.0000\n",
      "Epoch 19/30\n",
      "273/273 [==============================] - 0s 2ms/step - loss: 3.0767e-06 - accuracy: 1.0000 - val_loss: 2.4720e-06 - val_accuracy: 1.0000\n",
      "Epoch 20/30\n",
      "273/273 [==============================] - 1s 2ms/step - loss: 2.4805e-06 - accuracy: 1.0000 - val_loss: 2.0193e-06 - val_accuracy: 1.0000\n",
      "Epoch 21/30\n",
      "273/273 [==============================] - 1s 2ms/step - loss: 2.0924e-06 - accuracy: 1.0000 - val_loss: 1.7299e-06 - val_accuracy: 1.0000\n",
      "Epoch 22/30\n",
      "273/273 [==============================] - 0s 2ms/step - loss: 1.7170e-06 - accuracy: 1.0000 - val_loss: 1.4174e-06 - val_accuracy: 1.0000\n",
      "Epoch 23/30\n",
      "273/273 [==============================] - 1s 2ms/step - loss: 1.4603e-06 - accuracy: 1.0000 - val_loss: 1.2186e-06 - val_accuracy: 1.0000\n",
      "Epoch 24/30\n",
      "273/273 [==============================] - 0s 2ms/step - loss: 1.2247e-06 - accuracy: 1.0000 - val_loss: 1.0270e-06 - val_accuracy: 1.0000\n",
      "Epoch 25/30\n",
      "273/273 [==============================] - 1s 2ms/step - loss: 1.0243e-06 - accuracy: 1.0000 - val_loss: 8.9138e-07 - val_accuracy: 1.0000\n",
      "Epoch 26/30\n",
      "273/273 [==============================] - 0s 2ms/step - loss: 8.6200e-07 - accuracy: 1.0000 - val_loss: 7.3636e-07 - val_accuracy: 1.0000\n",
      "Epoch 27/30\n",
      "273/273 [==============================] - 1s 2ms/step - loss: 7.3410e-07 - accuracy: 1.0000 - val_loss: 6.3675e-07 - val_accuracy: 1.0000\n",
      "Epoch 28/30\n",
      "273/273 [==============================] - 0s 2ms/step - loss: 6.1333e-07 - accuracy: 1.0000 - val_loss: 5.2909e-07 - val_accuracy: 1.0000\n",
      "Epoch 29/30\n",
      "273/273 [==============================] - 0s 2ms/step - loss: 5.2576e-07 - accuracy: 1.0000 - val_loss: 4.4767e-07 - val_accuracy: 1.0000\n",
      "Epoch 30/30\n",
      "273/273 [==============================] - 0s 2ms/step - loss: 4.4184e-07 - accuracy: 1.0000 - val_loss: 4.1058e-07 - val_accuracy: 1.0000\n"
     ]
    }
   ],
   "source": [
    "history = ann_model.fit(x_train, y_train,batch_size= 15,\n",
    "epochs=30,\n",
    "verbose=1,\n",
    "validation_data = (x_test, y_test))"
   ]
  },
  {
   "cell_type": "code",
   "execution_count": 18,
   "id": "aec6efab",
   "metadata": {
    "execution": {
     "iopub.execute_input": "2023-05-04T17:50:08.862454Z",
     "iopub.status.busy": "2023-05-04T17:50:08.861897Z",
     "iopub.status.idle": "2023-05-04T17:50:09.389372Z",
     "shell.execute_reply": "2023-05-04T17:50:09.387625Z"
    },
    "papermill": {
     "duration": 0.577407,
     "end_time": "2023-05-04T17:50:09.392613",
     "exception": false,
     "start_time": "2023-05-04T17:50:08.815206",
     "status": "completed"
    },
    "tags": []
   },
   "outputs": [
    {
     "data": {
      "image/png": "[encoded data removed]",
      "text/plain": [
       "<Figure size 1000x800 with 2 Axes>"
      ]
     },
     "metadata": {},
     "output_type": "display_data"
    }
   ],
   "source": [
    "# Plot the loss and accuracy curves for training and validation \n",
    "fig, (ax1, ax2) = plt.subplots(nrows=2, ncols=1, figsize=(10, 8))\n",
    "\n",
    "ax1.plot(history.history['loss'], color='b', label=\"Training loss\")\n",
    "ax1.plot(history.history['val_loss'], color='orange', label=\"Validation loss\")\n",
    "ax1.legend(loc='best', shadow=True)\n",
    "\n",
    "ax2.plot(history.history['accuracy'], color='b', label=\"Training accuracy\")\n",
    "ax2.plot(history.history['val_accuracy'], color='orange',label=\"Validation accuracy\")\n",
    "ax2.legend(loc='best', shadow=True)\n",
    "\n",
    "plt.show()\n"
   ]
  },
  {
   "cell_type": "code",
   "execution_count": null,
   "id": "0a234b1f",
   "metadata": {
    "papermill": {
     "duration": 0.047624,
     "end_time": "2023-05-04T17:50:09.487145",
     "exception": false,
     "start_time": "2023-05-04T17:50:09.439521",
     "status": "completed"
    },
    "tags": []
   },
   "outputs": [],
   "source": []
  }
 ],
 "metadata": {
  "kernelspec": {
   "display_name": "Python 3 (ipykernel)",
   "language": "python",
   "name": "python3"
  },
  "language_info": {
   "codemirror_mode": {
    "name": "ipython",
    "version": 3
   },
   "file_extension": ".py",
   "mimetype": "text/x-python",
   "name": "python",
   "nbconvert_exporter": "python",
   "pygments_lexer": "ipython3",
   "version": "3.9.16"
  },
  "papermill": {
   "default_parameters": {},
   "duration": 73.576524,
   "end_time": "2023-05-04T17:50:12.792111",
   "environment_variables": {},
   "exception": null,
   "input_path": "__notebook__.ipynb",
   "output_path": "__notebook__.ipynb",
   "parameters": {},
   "start_time": "2023-05-04T17:48:59.215587",
   "version": "2.4.0"
  }
 },
 "nbformat": 4,
 "nbformat_minor": 5
}
